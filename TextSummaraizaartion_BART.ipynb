{
  "nbformat": 4,
  "nbformat_minor": 0,
  "metadata": {
    "colab": {
      "name": "TextSummaraizaartion-BART.ipynb",
      "provenance": []
    },
    "kernelspec": {
      "name": "python3",
      "display_name": "Python 3"
    },
    "language_info": {
      "name": "python"
    }
  },
  "cells": [
    {
      "cell_type": "code",
      "source": [
        "!pip install transformers"
      ],
      "metadata": {
        "id": "MFRQNxUw07Hg"
      },
      "execution_count": null,
      "outputs": []
    },
    {
      "cell_type": "code",
      "source": [
        "\"\"\"\n",
        "library:\n",
        "transformers: consists of thousands of pretrained models to perform tasks on different modalities such as text, vision, and audio.\n",
        "Here we are using the library for text summarization \n",
        "\n",
        "\n",
        "pipeline:\n",
        "pipelines are objects that abstract most of the complex code from the library\n",
        "There are two categories of pipeline abstractions to be aware about:\n",
        "~pipeline() which is the most powerful object encapsulating all other pipelines.\n",
        "~other task-specific pipelines: SummarizationPipeline, TextClassificationPipeline, etc.\n",
        "\n",
        "\n",
        "BartConfig:\n",
        "This is the configuration class to store the configuration of a BartModel. \n",
        "It is used to instantiate a BART model according to the specified arguments, defining the model architecture.\n",
        "\n",
        "BartTokenizer\n",
        "Constructs a BART tokenizer.\n",
        "This tokenizer has been trained to treat spaces like parts of the tokens so a word will\n",
        "be encoded differently whether it is at the beginning of the sentence (without space) or not.\n",
        "\n",
        "\n",
        "BartForConditionalGeneration:\n",
        "The BART Model with a language modeling head.\n",
        "This model is a PyTorch torch.nn.Module sub-class.\n",
        "\"\"\""
      ],
      "metadata": {
        "id": "SHBABU0j2lvR"
      },
      "execution_count": null,
      "outputs": []
    },
    {
      "cell_type": "code",
      "source": [
        "#ARTICLE1 contains 369 words\n",
        "#summarization max words limit is set to 150 words\n",
        "\n",
        "\n",
        "ARTICLE1 = \"\"\" New York (CNN)When Liana Barrientos was 23 years old, she got married in Westchester County, New York.\n",
        "A year later, she got married again in Westchester County, but to a different man and without divorcing her first husband.\n",
        "Only 18 days after that marriage, she got hitched yet again. Then, Barrientos declared \"I do\" five more times, sometimes only within two weeks of each other.\n",
        "In 2010, she married once more, this time in the Bronx. In an application for a marriage license, she stated it was her \"first and only\" marriage.\n",
        "Barrientos, now 39, is facing two criminal counts of \"offering a false instrument for filing in the first degree,\" referring to her false statements on the\n",
        "2010 marriage license application, according to court documents.\n",
        "Prosecutors said the marriages were part of an immigration scam.\n",
        "On Friday, she pleaded not guilty at State Supreme Court in the Bronx, according to her attorney, Christopher Wright, who declined to comment further.\n",
        "After leaving court, Barrientos was arrested and charged with theft of service and criminal trespass for allegedly sneaking into the New York subway through an emergency exit, said Detective\n",
        "Annette Markowski, a police spokeswoman. In total, Barrientos has been married 10 times, with nine of her marriages occurring between 1999 and 2002.\n",
        "All occurred either in Westchester County, Long Island, New Jersey or the Bronx. She is believed to still be married to four men, and at one time, she was married to eight men at once, prosecutors say.\n",
        "Prosecutors said the immigration scam involved some of her husbands, who filed for permanent residence status shortly after the marriages.\n",
        "Any divorces happened only after such filings were approved. It was unclear whether any of the men will be prosecuted.\n",
        "The case was referred to the Bronx District Attorney\\'s Office by Immigration and Customs Enforcement and the Department of Homeland Security\\'s\n",
        "Investigation Division. Seven of the men are from so-called \"red-flagged\" countries, including Egypt, Turkey, Georgia, Pakistan and Mali.\n",
        "Her eighth husband, Rashid Rajput, was deported in 2006 to his native Pakistan after an investigation by the Joint Terrorism Task Force.\n",
        "If convicted, Barrientos faces up to four years in prison.  Her next court appearance is scheduled for May 18.\n",
        "\"\"\"\n",
        "\n",
        "\n",
        "#ARTICLE2 contains 188 words\n",
        "#summarization max words limit is set to 60 words\n",
        "\n",
        "\n",
        "ARTICLE2=\"\"\"Videos that say approved vaccines are dangerous and cause autism, cancer or infertility are among those \n",
        "that will be taken down, the company said.  The policy includes the termination of accounts of anti-vaccine influencers.  \n",
        "Tech giants have been criticised for not doing more to counter false health information on their sites.  \n",
        "In July, US President Joe Biden said social media platforms were largely responsible for people's scepticism in getting \n",
        "vaccinated by spreading misinformation, and appealed for them to address the issue.  YouTube, which is owned by Google, \n",
        "said 130,000 videos were removed from its platform since last year, when it implemented a ban on content spreading misinformation \n",
        "about Covid vaccines.  In a blog post, the company said it had seen false claims about Covid jabs \"spill over into misinformation about vaccines \n",
        "in general\". The new policy covers long-approved vaccines, such as those against measles or hepatitis B.  \"We're expanding our medical \n",
        "misinformation policies on YouTube with new guidelines on currently administered vaccines that are approved and confirmed to be safe and\n",
        " effective by local health authorities and the WHO,\" the post said, referring to the World Health Organization.\"\"\""
      ],
      "metadata": {
        "id": "GjVdc_D1JmVv"
      },
      "execution_count": 1,
      "outputs": []
    },
    {
      "cell_type": "markdown",
      "source": [
        "#1. Using pipeline"
      ],
      "metadata": {
        "id": "OXjsNUAG2mQw"
      }
    },
    {
      "cell_type": "code",
      "execution_count": 2,
      "metadata": {
        "id": "Hni-4FIC0s0B"
      },
      "outputs": [],
      "source": [
        "from transformers import pipeline\n",
        "\n",
        "def text_summarization_pipeline(article,max_len):\n",
        "  summarizer = pipeline(\"summarization\", model=\"facebook/bart-large-cnn\")\n",
        "  return summarizer(article, max_length=max_len, min_length=30, do_sample=False)[0]['summary_text']\n"
      ]
    },
    {
      "cell_type": "code",
      "source": [
        "text_summarization_pipeline(ARTICLE1,150)"
      ],
      "metadata": {
        "colab": {
          "base_uri": "https://localhost:8080/",
          "height": 52
        },
        "id": "YqvRR4F_0xy6",
        "outputId": "4c306d4f-0657-4a15-9a93-543abe986c81"
      },
      "execution_count": 3,
      "outputs": [
        {
          "output_type": "execute_result",
          "data": {
            "text/plain": [
              "'Liana Barrientos, 39, is charged with two counts of \"offering a false instrument for filing in the first degree\" In total, she has been married 10 times, with nine of her marriages occurring between 1999 and 2002. She is believed to still be married to four men.'"
            ],
            "application/vnd.google.colaboratory.intrinsic+json": {
              "type": "string"
            }
          },
          "metadata": {},
          "execution_count": 3
        }
      ]
    },
    {
      "cell_type": "code",
      "source": [
        "text_summarization_pipeline(ARTICLE2,60)"
      ],
      "metadata": {
        "colab": {
          "base_uri": "https://localhost:8080/",
          "height": 52
        },
        "id": "OgMeV1_aGuYA",
        "outputId": "142d90d7-c3e5-4dd7-b1a6-51d5790f069a"
      },
      "execution_count": 4,
      "outputs": [
        {
          "output_type": "execute_result",
          "data": {
            "text/plain": [
              "'Videos that say approved vaccines are dangerous and cause autism, cancer or infertility are among those that will be taken down. YouTube, which is owned by Google, said 130,000 videos were removed from its platform since last year.'"
            ],
            "application/vnd.google.colaboratory.intrinsic+json": {
              "type": "string"
            }
          },
          "metadata": {},
          "execution_count": 4
        }
      ]
    },
    {
      "cell_type": "markdown",
      "source": [
        "#2.  Using BartTokenizer, BartForConditionalGeneration, BartConfig"
      ],
      "metadata": {
        "id": "RSl6CVJP2VFD"
      }
    },
    {
      "cell_type": "code",
      "source": [
        "from transformers import BartTokenizer, BartForConditionalGeneration, BartConfig\n",
        "\n",
        "model = BartForConditionalGeneration.from_pretrained('facebook/bart-large-cnn')\n",
        "tokenizer = BartTokenizer.from_pretrained('facebook/bart-large-cnn')\n",
        "\n",
        "def text_summarization_BART(article,max_len):\n",
        "  \n",
        "  inputs = tokenizer([article], return_tensors='pt')\n",
        "  #return_tensors: if set, return tensors instead of list of python integers\n",
        "  # pt: return PyTorch torch.Tensor objects.\n",
        "\n",
        "  summary_ids = model.generate(inputs['input_ids'], max_length=max_len, early_stopping=False)\n",
        "\n",
        "  return [tokenizer.decode(g, skip_special_tokens=True) for g in summary_ids][0]"
      ],
      "metadata": {
        "id": "KGEPLVEQ1qr-"
      },
      "execution_count": 7,
      "outputs": []
    },
    {
      "cell_type": "code",
      "source": [
        "text_summarization_BART(ARTICLE1,150)"
      ],
      "metadata": {
        "colab": {
          "base_uri": "https://localhost:8080/",
          "height": 70
        },
        "id": "HRDLe5Mr2FKM",
        "outputId": "e2e47864-34ee-4f2f-c258-1ac9deadf9f5"
      },
      "execution_count": 8,
      "outputs": [
        {
          "output_type": "execute_result",
          "data": {
            "text/plain": [
              "'Liana Barrientos, 39, is charged with two counts of offering a false instrument for filing in the first degree. In total, she has been married 10 times, with nine of her marriages occurring between 1999 and 2002. She is believed to still be married to four men, and at one time, she was married to eight men at once. If convicted, she faces up to four years in prison.'"
            ],
            "application/vnd.google.colaboratory.intrinsic+json": {
              "type": "string"
            }
          },
          "metadata": {},
          "execution_count": 8
        }
      ]
    },
    {
      "cell_type": "code",
      "source": [
        "text_summarization_BART(ARTICLE2,60)"
      ],
      "metadata": {
        "colab": {
          "base_uri": "https://localhost:8080/",
          "height": 52
        },
        "id": "dc1bY9dyKZ2d",
        "outputId": "e97d4a8a-6a79-4665-c4a7-c889b4c75f53"
      },
      "execution_count": 9,
      "outputs": [
        {
          "output_type": "execute_result",
          "data": {
            "text/plain": [
              "'Videos that say approved vaccines are dangerous and cause autism, cancer or infertility are among those that will be taken down. The policy includes the termination of accounts of anti-vaccine influencers. YouTube, which is owned by Google, said 130,000 videos were removed from its platform'"
            ],
            "application/vnd.google.colaboratory.intrinsic+json": {
              "type": "string"
            }
          },
          "metadata": {},
          "execution_count": 9
        }
      ]
    },
    {
      "cell_type": "code",
      "source": [
        ""
      ],
      "metadata": {
        "id": "ZZMHz99QKrN5"
      },
      "execution_count": null,
      "outputs": []
    }
  ]
}